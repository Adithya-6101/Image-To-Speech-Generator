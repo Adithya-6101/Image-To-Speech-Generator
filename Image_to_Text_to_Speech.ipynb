{
  "nbformat": 4,
  "nbformat_minor": 0,
  "metadata": {
    "colab": {
      "name": "Image to Text to Speech.ipynb",
      "provenance": [],
      "authorship_tag": "ABX9TyMYN/1kxwuIN+jSv4doG8kP",
      "include_colab_link": true
    },
    "kernelspec": {
      "name": "python3",
      "display_name": "Python 3"
    },
    "language_info": {
      "name": "python"
    }
  },
  "cells": [
    {
      "cell_type": "markdown",
      "metadata": {
        "id": "view-in-github",
        "colab_type": "text"
      },
      "source": [
        "<a href=\"https://colab.research.google.com/github/Adithya-6101/Image-To-Speech-Generator/blob/main/Image_to_Text_to_Speech.ipynb\" target=\"_parent\"><img src=\"https://colab.research.google.com/assets/colab-badge.svg\" alt=\"Open In Colab\"/></a>"
      ]
    },
    {
      "cell_type": "code",
      "metadata": {
        "id": "Oa7Og7FvKZ4N"
      },
      "source": [
        "!sudo apt install tesseract-ocr\n",
        "!pip install pytesseract"
      ],
      "execution_count": null,
      "outputs": []
    },
    {
      "cell_type": "code",
      "metadata": {
        "id": "2jRAztB7MFTg"
      },
      "source": [
        "pip install gTTS"
      ],
      "execution_count": null,
      "outputs": []
    },
    {
      "cell_type": "code",
      "metadata": {
        "id": "SU8wPqtLmtCs"
      },
      "source": [
        "pip install Pillow"
      ],
      "execution_count": null,
      "outputs": []
    },
    {
      "cell_type": "code",
      "metadata": {
        "id": "KsAWr25dlQNF"
      },
      "source": [
        "pip install streamlit"
      ],
      "execution_count": null,
      "outputs": []
    },
    {
      "cell_type": "code",
      "metadata": {
        "id": "nLqIcBhsoDJG"
      },
      "source": [
        "pip install pyngrok"
      ],
      "execution_count": null,
      "outputs": []
    },
    {
      "cell_type": "markdown",
      "metadata": {
        "id": "qW6EgES-CPeq"
      },
      "source": [
        "**Auth token is used to authenticate request to ngrok api**"
      ]
    },
    {
      "cell_type": "code",
      "metadata": {
        "colab": {
          "base_uri": "https://localhost:8080/"
        },
        "id": "o-w8XGse3nVK",
        "outputId": "6493c402-f6ca-40b0-8ed5-60464a66c175"
      },
      "source": [
        "!ngrok authtoken 21gujW3r0rFaJUSkY6YnfHmdkvN_5rgmARLufPMEFWBeK5Wb3"
      ],
      "execution_count": 77,
      "outputs": [
        {
          "output_type": "stream",
          "name": "stdout",
          "text": [
            "Authtoken saved to configuration file: /root/.ngrok2/ngrok.yml\n"
          ]
        }
      ]
    },
    {
      "cell_type": "code",
      "metadata": {
        "id": "LN3KifGSp81K"
      },
      "source": [
        "!pip install -q streamlit"
      ],
      "execution_count": 45,
      "outputs": []
    },
    {
      "cell_type": "code",
      "metadata": {
        "colab": {
          "base_uri": "https://localhost:8080/"
        },
        "id": "LI6PIWbsmPkU",
        "outputId": "404fde3f-6101-4d1c-d14b-aced506332c5"
      },
      "source": [
        "%%writefile imagetospeech.py\n",
        "import streamlit as st\n",
        "from PIL import Image\n",
        "import pytesseract\n",
        "import shutil\n",
        "import os\n",
        "import random\n",
        "from gtts import gTTS \n",
        "from IPython.display import Audio\n",
        "st.title('IMAGE TO TEXT TO SPEECH CONVERTER')\n",
        "st.subheader('Optical Character Recognition with Voice output')\n",
        "image_file = st.file_uploader(\"Upload Image\",type=['jpg','png','jpeg','JPG'])\n",
        "\n",
        "if st.button(\"SUBMIT\"):\n",
        "    \n",
        "    if image_file is not None:\n",
        "        img = Image.open(image_file)\n",
        "        \n",
        "        st.subheader('Image you Uploaded...')\n",
        "        st.image(image_file,width=450)\n",
        "        with st.spinner('Translating Text...'):\n",
        "            result = pytesseract.image_to_string(img)\n",
        "            st.subheader(\"Translated Text is ...\")\n",
        "            st.write(result)         \n",
        "        st.write('')\n",
        "        st.header('Generated Audio')        \n",
        "        with st.spinner('Generating Audio ...'):\n",
        "            tts = gTTS(result) \n",
        "            tts.save('1.wav') \n",
        "        sound_file = '1.wav'\n",
        "        st.audio(sound_file,format='audio/1.wav')\n",
        "        st.balloons()\n",
        "    else:\n",
        "        st.subheader('Image not found! Please Upload an Image.') "
      ],
      "execution_count": 92,
      "outputs": [
        {
          "output_type": "stream",
          "name": "stdout",
          "text": [
            "Overwriting imagetospeech.py\n"
          ]
        }
      ]
    },
    {
      "cell_type": "code",
      "metadata": {
        "colab": {
          "base_uri": "https://localhost:8080/"
        },
        "id": "GRDgJUR83UL5",
        "outputId": "fd1bd067-6ed2-4f1e-edba-4ac408f387ed"
      },
      "source": [
        "!nohup streamlit run imagetospeech.py &"
      ],
      "execution_count": 76,
      "outputs": [
        {
          "output_type": "stream",
          "name": "stdout",
          "text": [
            "nohup: appending output to 'nohup.out'\n"
          ]
        }
      ]
    },
    {
      "cell_type": "markdown",
      "metadata": {
        "id": "pBAiezKqHO1_"
      },
      "source": [
        "**Select local host ip address**\n",
        "new website of streamlit with ngrok is displayed "
      ]
    },
    {
      "cell_type": "code",
      "metadata": {
        "colab": {
          "base_uri": "https://localhost:8080/"
        },
        "id": "rPlr0Rmo3JVu",
        "outputId": "39a01b19-0a94-47bb-86a2-a733b3d56e8d"
      },
      "source": [
        "from pyngrok import ngrok\n",
        "\n",
        "url = ngrok.connect(port='8501')\n",
        "url"
      ],
      "execution_count": 83,
      "outputs": [
        {
          "output_type": "stream",
          "name": "stderr",
          "text": [
            "2021-12-01 16:46:03.365 INFO    pyngrok.ngrok: Opening tunnel named: http-80-142dd77a-dfee-4b0a-91e5-4f14c9ba1e92\n",
            "2021-12-01 16:46:03.408 INFO    pyngrok.process.ngrok: t=2021-12-01T16:46:03+0000 lvl=info msg=\"no configuration paths supplied\"\n",
            "2021-12-01 16:46:03.411 INFO    pyngrok.process.ngrok: t=2021-12-01T16:46:03+0000 lvl=info msg=\"using configuration at default config path\" path=/root/.ngrok2/ngrok.yml\n",
            "2021-12-01 16:46:03.415 INFO    pyngrok.process.ngrok: t=2021-12-01T16:46:03+0000 lvl=info msg=\"open config file\" path=/root/.ngrok2/ngrok.yml err=nil\n",
            "2021-12-01 16:46:03.424 INFO    pyngrok.process.ngrok: t=2021-12-01T16:46:03+0000 lvl=info msg=\"starting web service\" obj=web addr=127.0.0.1:4040\n",
            "2021-12-01 16:46:03.495 INFO    pyngrok.process.ngrok: t=2021-12-01T16:46:03+0000 lvl=info msg=\"tunnel session started\" obj=tunnels.session\n",
            "2021-12-01 16:46:03.504 INFO    pyngrok.process.ngrok: t=2021-12-01T16:46:03+0000 lvl=info msg=\"client session established\" obj=csess id=6ef077193955\n",
            "2021-12-01 16:46:03.517 INFO    pyngrok.process.ngrok: t=2021-12-01T16:46:03+0000 lvl=info msg=start pg=/api/tunnels id=b3c9f8dc411d3fdb\n",
            "2021-12-01 16:46:03.520 INFO    pyngrok.process.ngrok: t=2021-12-01T16:46:03+0000 lvl=info msg=end pg=/api/tunnels id=b3c9f8dc411d3fdb status=200 dur=435.817µs\n",
            "2021-12-01 16:46:03.523 INFO    pyngrok.process.ngrok: t=2021-12-01T16:46:03+0000 lvl=info msg=start pg=/api/tunnels id=edd30861c1dcb8d1\n",
            "2021-12-01 16:46:03.525 INFO    pyngrok.process.ngrok: t=2021-12-01T16:46:03+0000 lvl=info msg=end pg=/api/tunnels id=edd30861c1dcb8d1 status=200 dur=125.834µs\n",
            "2021-12-01 16:46:03.531 INFO    pyngrok.process.ngrok: t=2021-12-01T16:46:03+0000 lvl=info msg=start pg=/api/tunnels id=54415a3bd669d36f\n",
            "2021-12-01 16:46:03.586 INFO    pyngrok.process.ngrok: t=2021-12-01T16:46:03+0000 lvl=info msg=\"started tunnel\" obj=tunnels name=\"http-80-142dd77a-dfee-4b0a-91e5-4f14c9ba1e92 (http)\" addr=http://localhost:80 url=http://eabf-35-245-237-250.ngrok.io\n",
            "2021-12-01 16:46:03.589 INFO    pyngrok.process.ngrok: t=2021-12-01T16:46:03+0000 lvl=info msg=\"started tunnel\" obj=tunnels name=http-80-142dd77a-dfee-4b0a-91e5-4f14c9ba1e92 addr=http://localhost:80 url=https://eabf-35-245-237-250.ngrok.io\n"
          ]
        },
        {
          "output_type": "execute_result",
          "data": {
            "text/plain": [
              "<NgrokTunnel: \"http://eabf-35-245-237-250.ngrok.io\" -> \"http://localhost:80\">"
            ]
          },
          "metadata": {},
          "execution_count": 83
        },
        {
          "output_type": "stream",
          "name": "stderr",
          "text": [
            "2021-12-01 16:46:03.593 INFO    pyngrok.process.ngrok: t=2021-12-01T16:46:03+0000 lvl=info msg=end pg=/api/tunnels id=54415a3bd669d36f status=201 dur=69.421547ms\n",
            "2021-12-01 16:46:03.595 INFO    pyngrok.process.ngrok: t=2021-12-01T16:46:03+0000 lvl=info msg=start pg=\"/api/tunnels/http-80-142dd77a-dfee-4b0a-91e5-4f14c9ba1e92 (http)\" id=59d7bce26b95fede\n",
            "2021-12-01 16:46:03.598 INFO    pyngrok.process.ngrok: t=2021-12-01T16:46:03+0000 lvl=info msg=end pg=\"/api/tunnels/http-80-142dd77a-dfee-4b0a-91e5-4f14c9ba1e92 (http)\" id=59d7bce26b95fede status=200 dur=211.528µs\n"
          ]
        }
      ]
    },
    {
      "cell_type": "code",
      "metadata": {
        "id": "NIijd5WD42zI"
      },
      "source": [
        "ngrok.kill()"
      ],
      "execution_count": null,
      "outputs": []
    }
  ]
}